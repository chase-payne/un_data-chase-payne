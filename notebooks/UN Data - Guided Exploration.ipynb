{
 "cells": [
  {
   "cell_type": "code",
   "execution_count": null,
   "id": "051392ac",
   "metadata": {},
   "outputs": [],
   "source": [
    "import pandas as pd\n",
    "import numpy as np\n",
    "import matplotlib.pyplot as plt\n",
    "import seaborn as sns"
   ]
  },
  {
   "cell_type": "markdown",
   "id": "67ee90ac",
   "metadata": {},
   "source": [
    "# Imported dataset as panda"
   ]
  },
  {
   "cell_type": "code",
   "execution_count": null,
   "id": "5ccc345e",
   "metadata": {},
   "outputs": [],
   "source": [
    "gdp_df= pd.read_csv('../data/gdp_percapita.csv')"
   ]
  },
  {
   "cell_type": "code",
   "execution_count": null,
   "id": "1c2f9121",
   "metadata": {},
   "outputs": [],
   "source": [
    "gdp_df"
   ]
  },
  {
   "cell_type": "markdown",
   "id": "c0167fe7",
   "metadata": {},
   "source": [
    "# How many rows and columns are in gdp_df? "
   ]
  },
  {
   "cell_type": "code",
   "execution_count": null,
   "id": "e348993c",
   "metadata": {},
   "outputs": [],
   "source": [
    "gdp_df.shape"
   ]
  },
  {
   "cell_type": "markdown",
   "id": "f9b19366",
   "metadata": {},
   "source": [
    "# What are the data types of each column?"
   ]
  },
  {
   "cell_type": "code",
   "execution_count": null,
   "id": "73cec523",
   "metadata": {},
   "outputs": [],
   "source": [
    "datatypes = gdp_df.dtypes\n",
    "datatypes"
   ]
  },
  {
   "cell_type": "markdown",
   "id": "517901d1",
   "metadata": {},
   "source": [
    "# Drop the Value Footnotes column "
   ]
  },
  {
   "cell_type": "code",
   "execution_count": null,
   "id": "530918d9",
   "metadata": {},
   "outputs": [],
   "source": [
    "gdp_df = gdp_df.drop(columns = 'Value Footnotes')\n",
    "gdp_df"
   ]
  },
  {
   "cell_type": "markdown",
   "id": "203ff0a6",
   "metadata": {},
   "source": [
    "# Rename the remaining three to 'Country', 'Year', and 'GDP_Per_Capita'."
   ]
  },
  {
   "cell_type": "code",
   "execution_count": null,
   "id": "6119d47d",
   "metadata": {},
   "outputs": [],
   "source": [
    "gdp_df = gdp_df.rename(columns = {'Country or Area' : 'Country', 'Value' : 'GDP_Per_Capita'})\n",
    "gdp_df"
   ]
  },
  {
   "cell_type": "code",
   "execution_count": null,
   "id": "50b00d7f",
   "metadata": {},
   "outputs": [],
   "source": [
    "gdp_df.info()"
   ]
  },
  {
   "cell_type": "markdown",
   "id": "93b4f985",
   "metadata": {},
   "source": [
    "# Used a value count to see what years were represented in df."
   ]
  },
  {
   "cell_type": "code",
   "execution_count": null,
   "id": "846701f4",
   "metadata": {},
   "outputs": [],
   "source": [
    "gdp_years = gdp_df.Year.value_counts()\n",
    "gdp_years"
   ]
  },
  {
   "cell_type": "code",
   "execution_count": null,
   "id": "c48979e0",
   "metadata": {},
   "outputs": [],
   "source": [
    "gdp_countries = gdp_df.Country.value_counts()\n",
    "gdp_countries"
   ]
  },
  {
   "cell_type": "code",
   "execution_count": null,
   "id": "44221d87",
   "metadata": {},
   "outputs": [],
   "source": [
    "gdp_countries"
   ]
  },
  {
   "cell_type": "markdown",
   "id": "3feffc33",
   "metadata": {},
   "source": [
    "# Converting to a new dataframe"
   ]
  },
  {
   "cell_type": "code",
   "execution_count": null,
   "id": "187e05a5",
   "metadata": {},
   "outputs": [],
   "source": [
    "gdp_countries_df = gdp_countries.to_frame()"
   ]
  },
  {
   "cell_type": "code",
   "execution_count": null,
   "id": "18811c0d",
   "metadata": {},
   "outputs": [],
   "source": [
    "type(gdp_countries_df)"
   ]
  },
  {
   "cell_type": "markdown",
   "id": "1ea2bc22",
   "metadata": {},
   "source": [
    "# Reseting to index to clean up output"
   ]
  },
  {
   "cell_type": "code",
   "execution_count": null,
   "id": "3f1f6ece",
   "metadata": {},
   "outputs": [],
   "source": [
    "gdp_countries_df = gdp_countries_df.reset_index()\n",
    "gdp_countries_df"
   ]
  },
  {
   "cell_type": "code",
   "execution_count": null,
   "id": "1e6eaaa4",
   "metadata": {},
   "outputs": [],
   "source": [
    "gdp_countries_df.head()"
   ]
  },
  {
   "cell_type": "markdown",
   "id": "e19d0f2f",
   "metadata": {},
   "source": [
    "# Renamed columns to show countries in all 31 years."
   ]
  },
  {
   "cell_type": "code",
   "execution_count": null,
   "id": "316a98f5",
   "metadata": {},
   "outputs": [],
   "source": [
    "gdp_countries_df.columns = ['Country','Years Present']\n",
    "gdp_countries_df"
   ]
  },
  {
   "cell_type": "markdown",
   "id": "d75604cb",
   "metadata": {},
   "source": [
    "# Used len to count how many countries were in all 31 years"
   ]
  },
  {
   "cell_type": "code",
   "execution_count": null,
   "id": "42b8364e",
   "metadata": {},
   "outputs": [],
   "source": [
    "count = len(gdp_countries_df[gdp_countries_df['Years Present'] == 31])\n",
    "count"
   ]
  },
  {
   "cell_type": "markdown",
   "id": "5d3c869c",
   "metadata": {},
   "source": [
    "# Used len to count how many countries were not calculated in less than 31 years"
   ]
  },
  {
   "cell_type": "code",
   "execution_count": null,
   "id": "0cba62b6",
   "metadata": {},
   "outputs": [],
   "source": [
    "len(gdp_countries_df[gdp_countries_df['Years Present'] < 31])"
   ]
  },
  {
   "cell_type": "markdown",
   "id": "e21081ba",
   "metadata": {},
   "source": [
    "# Create a histogram, a density plot, a boxplot, and a violin plot for the GDP in the year 2020. What do you notice when you look at these plots? How do the plots compare and what information can you get out of one type that you can't necessarily get out of the others?"
   ]
  },
  {
   "cell_type": "code",
   "execution_count": null,
   "id": "3d2abd48",
   "metadata": {},
   "outputs": [],
   "source": [
    "gdp_df"
   ]
  },
  {
   "cell_type": "markdown",
   "id": "d3d5bf1d",
   "metadata": {},
   "source": [
    "# I was able to make my dataframe only reflect the Countries GDP for the year 2020"
   ]
  },
  {
   "cell_type": "code",
   "execution_count": null,
   "id": "a02478cb",
   "metadata": {},
   "outputs": [],
   "source": [
    "gdp_df_2020 = gdp_df.loc[gdp_df['Year'] == 2020]\n",
    "gdp_df_2020"
   ]
  },
  {
   "cell_type": "markdown",
   "id": "d39d2bd1",
   "metadata": {},
   "source": [
    "# Violin Plot"
   ]
  },
  {
   "cell_type": "code",
   "execution_count": null,
   "id": "66017f05",
   "metadata": {},
   "outputs": [],
   "source": [
    "sns.violinplot(x = 'Year', y = 'GDP_Per_Capita', data = gdp_df_2020)\n",
    "plt.title(\"Violin Plot\")\n"
   ]
  },
  {
   "cell_type": "markdown",
   "id": "8247e5c3",
   "metadata": {},
   "source": [
    "# Histoplot"
   ]
  },
  {
   "cell_type": "code",
   "execution_count": null,
   "id": "cbfa7e5f",
   "metadata": {},
   "outputs": [],
   "source": [
    "sns.distplot(a= gdp_df_2020 ['GDP_Per_Capita'], hist=True, kde=False, rug=False )\n",
    "plt.title(\"Histogram\")"
   ]
  },
  {
   "cell_type": "markdown",
   "id": "390e90da",
   "metadata": {},
   "source": [
    "# Density Chart"
   ]
  },
  {
   "cell_type": "code",
   "execution_count": null,
   "id": "9e787323",
   "metadata": {},
   "outputs": [],
   "source": [
    "sns.kdeplot(gdp_df_2020['GDP_Per_Capita'])\n",
    "plt.title(\"Density Chart\")"
   ]
  },
  {
   "cell_type": "markdown",
   "id": "f06c0427",
   "metadata": {},
   "source": [
    "# Boxlpot"
   ]
  },
  {
   "cell_type": "code",
   "execution_count": null,
   "id": "8f813020",
   "metadata": {},
   "outputs": [],
   "source": [
    "sns.boxplot( x=gdp_df_2020[\"Year\"], y=gdp_df_2020[\"GDP_Per_Capita\"] )\n",
    "plt.title(\"Boxplot\")"
   ]
  },
  {
   "cell_type": "markdown",
   "id": "c250ce66",
   "metadata": {},
   "source": [
    "# Find the median gdp for 2020."
   ]
  },
  {
   "cell_type": "code",
   "execution_count": null,
   "id": "a614ebaf",
   "metadata": {},
   "outputs": [],
   "source": [
    "gdp_df_2020_median = gdp_df_2020['GDP_Per_Capita'].median()\n",
    "gdp_df_2020_median"
   ]
  },
  {
   "cell_type": "markdown",
   "id": "c79f50c1",
   "metadata": {},
   "source": [
    "# GDP per decade visualizations"
   ]
  },
  {
   "cell_type": "code",
   "execution_count": null,
   "id": "84c1de63",
   "metadata": {},
   "outputs": [],
   "source": [
    "gdp_decades = gdp_df[gdp_df['Year'].isin([1990,2000,2010,2020])]\n",
    "gdp_decades"
   ]
  },
  {
   "cell_type": "markdown",
   "id": "6e7acbfe",
   "metadata": {},
   "source": [
    "# Decades boxplot"
   ]
  },
  {
   "cell_type": "code",
   "execution_count": null,
   "id": "c116d409",
   "metadata": {},
   "outputs": [],
   "source": [
    "sns.boxplot( x=gdp_decades[\"Year\"], y=gdp_decades[\"GDP_Per_Capita\"] )\n",
    "plt.title (\"Violin\")"
   ]
  },
  {
   "cell_type": "markdown",
   "id": "49ed4444",
   "metadata": {},
   "source": [
    "# Decades Barplot"
   ]
  },
  {
   "cell_type": "code",
   "execution_count": null,
   "id": "cd75baed",
   "metadata": {},
   "outputs": [],
   "source": [
    "plt.bar(gdp_decades.Year, gdp_decades.GDP_Per_Capita)\n",
    "plt.title('Barplot')"
   ]
  },
  {
   "cell_type": "markdown",
   "id": "c00dc786",
   "metadata": {},
   "source": [
    "# Decades Scatterplot"
   ]
  },
  {
   "cell_type": "code",
   "execution_count": null,
   "id": "d7269001",
   "metadata": {},
   "outputs": [],
   "source": [
    "plt.scatter(gdp_decades.Year, gdp_decades. GDP_Per_Capita)\n",
    "plt.title(\"Scatterplot\")"
   ]
  },
  {
   "cell_type": "markdown",
   "id": "a4d9fe65",
   "metadata": {},
   "source": [
    "# Decades scatterplot with trend line"
   ]
  },
  {
   "cell_type": "code",
   "execution_count": null,
   "id": "84b272e6",
   "metadata": {},
   "outputs": [],
   "source": [
    "sns.regplot(x=gdp_decades[\"Year\"], y=gdp_decades[\"GDP_Per_Capita\"], line_kws={\"color\":\"r\",\"alpha\":0.7,\"lw\":5})\n",
    "plt.title(\"Scatterplot with Trendline\")\n",
    "plt.show()"
   ]
  },
  {
   "cell_type": "markdown",
   "id": "df21ac78",
   "metadata": {},
   "source": [
    "# First GDP to 100k"
   ]
  },
  {
   "cell_type": "code",
   "execution_count": null,
   "id": "ab6cf663",
   "metadata": {},
   "outputs": [],
   "source": [
    "gdp_100k = gdp_df[\"GDP_Per_Capita\"] > 100000\n",
    "gdp_df[gdp_100k].sort_values(\"Year\").head(1)"
   ]
  },
  {
   "cell_type": "markdown",
   "id": "cfb8ac13",
   "metadata": {},
   "source": [
    "# Highest GDP in 2020"
   ]
  },
  {
   "cell_type": "code",
   "execution_count": null,
   "id": "0ea238a4",
   "metadata": {},
   "outputs": [],
   "source": [
    "gdp_highest_2020 = gdp_df[\"Year\"] == 2020\n",
    "gdp_df[gdp_highest_2020].sort_values(['GDP_Per_Capita'], ascending = False).head(1)"
   ]
  },
  {
   "cell_type": "markdown",
   "id": "ba99b40f",
   "metadata": {},
   "source": [
    "# Cleaner way to do Highest GDP for 2020, forgot I previously created a DF for 2020."
   ]
  },
  {
   "cell_type": "code",
   "execution_count": null,
   "id": "6cdbebb3",
   "metadata": {},
   "outputs": [],
   "source": [
    "gdp_df_2020.sort_values(['GDP_Per_Capita'], ascending = False).head(1)"
   ]
  },
  {
   "cell_type": "code",
   "execution_count": null,
   "id": "f33045a1",
   "metadata": {},
   "outputs": [],
   "source": [
    "gdp_luxembourg = gdp_df.loc[gdp_df[\"Country\"] == \"Luxembourg\"]\n",
    "gdp_luxembourg.head()"
   ]
  },
  {
   "cell_type": "code",
   "execution_count": null,
   "id": "6a4d75dc",
   "metadata": {},
   "outputs": [],
   "source": [
    "sns.regplot(x=gdp_luxembourg[\"Year\"], y=gdp_luxembourg[\"GDP_Per_Capita\"], line_kws={\"color\":\"g\",\"alpha\":0.7,\"lw\":5})\n",
    "plt.title (\"Luxembourg GDP Through the Years\")\n",
    "plt.show()"
   ]
  },
  {
   "cell_type": "markdown",
   "id": "3a4b7f07",
   "metadata": {},
   "source": [
    "# Which country had the lowest GDP in 2020"
   ]
  },
  {
   "cell_type": "code",
   "execution_count": null,
   "id": "d3ffaadc",
   "metadata": {},
   "outputs": [],
   "source": [
    "gdp_df_2020.sort_values(['GDP_Per_Capita'], ascending = True).head(1)"
   ]
  },
  {
   "cell_type": "code",
   "execution_count": null,
   "id": "d1d8b329",
   "metadata": {},
   "outputs": [],
   "source": [
    "gdp_burundi = gdp_df.loc[gdp_df[\"Country\"] == \"Burundi\"]\n",
    "gdp_burundi.head()"
   ]
  },
  {
   "cell_type": "code",
   "execution_count": null,
   "id": "dd192419",
   "metadata": {},
   "outputs": [],
   "source": [
    "sns.regplot(x=gdp_burundi[\"Year\"], y=gdp_burundi[\"GDP_Per_Capita\"], line_kws={\"color\":\"r\",\"alpha\":0.7,\"lw\":5})\n",
    "plt.title (\"Burundi GDP Through the Years\")\n",
    "plt.show()"
   ]
  },
  {
   "cell_type": "markdown",
   "id": "21e01f6a",
   "metadata": {},
   "source": [
    "# Create new dataframe for Internet CSV"
   ]
  },
  {
   "cell_type": "code",
   "execution_count": null,
   "id": "b2a8ed92",
   "metadata": {},
   "outputs": [],
   "source": [
    "internet_df= pd.read_csv('../data/internet_use.csv',nrows=4495)"
   ]
  },
  {
   "cell_type": "code",
   "execution_count": null,
   "id": "871a7612",
   "metadata": {},
   "outputs": [],
   "source": [
    "internet_df.tail()"
   ]
  },
  {
   "cell_type": "markdown",
   "id": "b4b8a078",
   "metadata": {},
   "source": [
    "# Drop Value Footnotes column and rename other columns"
   ]
  },
  {
   "cell_type": "code",
   "execution_count": null,
   "id": "663a93a8",
   "metadata": {},
   "outputs": [],
   "source": [
    "internet_df= internet_df.rename(columns = {\"Country or Area\" : \"Country\", \"Value\":\"Internet_Users_Pct\"}).drop(columns = \"Value Footnotes\")\n",
    "internet_df"
   ]
  },
  {
   "cell_type": "markdown",
   "id": "7d419d6c",
   "metadata": {},
   "source": [
    "# The highest number of countries with internet was in 1990."
   ]
  },
  {
   "cell_type": "code",
   "execution_count": null,
   "id": "5e37c246",
   "metadata": {},
   "outputs": [],
   "source": [
    "internet_year = internet_df.Year.value_counts()\n",
    "internet_year"
   ]
  },
  {
   "cell_type": "markdown",
   "id": "8df7ef5a",
   "metadata": {},
   "source": [
    "# What was the first non zero year for internet users %"
   ]
  },
  {
   "cell_type": "code",
   "execution_count": null,
   "id": "96e53743",
   "metadata": {},
   "outputs": [],
   "source": [
    "internet_not_zero = internet_df[\"Internet_Users_Pct\"] > 0.000000\n",
    "internet_df[internet_not_zero].sort_values(\"Year\").head(1)"
   ]
  },
  {
   "cell_type": "markdown",
   "id": "edc5e619",
   "metadata": {},
   "source": [
    "# Internet User 2000 vs 2014"
   ]
  },
  {
   "cell_type": "code",
   "execution_count": null,
   "id": "a4083cca",
   "metadata": {},
   "outputs": [],
   "source": [
    "int2000_vs_int2014 = internet_df[internet_df['Year'].isin([2000, 2014])]\n",
    "int2000_vs_int2014"
   ]
  },
  {
   "cell_type": "markdown",
   "id": "d65b91ec",
   "metadata": {},
   "source": [
    "# Boxplot showing 2000 vs 2014"
   ]
  },
  {
   "cell_type": "code",
   "execution_count": null,
   "id": "9dfa9dcd",
   "metadata": {},
   "outputs": [],
   "source": [
    "sns.boxplot( x=int2000_vs_int2014[\"Year\"], y=int2000_vs_int2014[\"Internet_Users_Pct\"])\n",
    "plt.title(\"2000 vs 2014\")"
   ]
  },
  {
   "cell_type": "markdown",
   "id": "3b22a2d2",
   "metadata": {},
   "source": [
    "# Used .isin to select only rows in 2014 from original df"
   ]
  },
  {
   "cell_type": "code",
   "execution_count": null,
   "id": "c25484f9",
   "metadata": {},
   "outputs": [],
   "source": [
    "internet_2014 = internet_df[internet_df [\"Year\"].isin([2014])]\n",
    "internet_2014"
   ]
  },
  {
   "cell_type": "markdown",
   "id": "0e6b7c3a",
   "metadata": {},
   "source": [
    "# Used .count to show total number of countries below 5% in 2014"
   ]
  },
  {
   "cell_type": "code",
   "execution_count": null,
   "id": "f989468b",
   "metadata": {},
   "outputs": [],
   "source": [
    "internet_2014[internet_2014[\"Internet_Users_Pct\"] < 5].count()"
   ]
  },
  {
   "cell_type": "markdown",
   "id": "972953b4",
   "metadata": {},
   "source": [
    "# Joined both dfs with an outer(full) join on country."
   ]
  },
  {
   "cell_type": "code",
   "execution_count": null,
   "id": "adbe4333",
   "metadata": {},
   "outputs": [],
   "source": [
    "gdp_and_internet_use = pd.merge(gdp_df, internet_df,\n",
    "                               left_on = ['Country','Year'], right_on = ['Country','Year'],\n",
    "                               how = 'outer')\n",
    "gdp_and_internet_use"
   ]
  },
  {
   "cell_type": "markdown",
   "id": "b79438ef",
   "metadata": {},
   "source": [
    "# Using drop and rename to clean up new table."
   ]
  },
  {
   "cell_type": "code",
   "execution_count": null,
   "id": "edf89c24",
   "metadata": {},
   "outputs": [],
   "source": [
    "gdp_and_internet_use = gdp_and_internet_use.rename(columns = {\"Year_x\":\"Year\"})\n",
    "gdp_and_internet_use"
   ]
  },
  {
   "cell_type": "markdown",
   "id": "fe9c7a12",
   "metadata": {},
   "source": [
    "# Highest Internet Use in 2014"
   ]
  },
  {
   "cell_type": "code",
   "execution_count": null,
   "id": "0f2c64c6",
   "metadata": {},
   "outputs": [],
   "source": [
    "internet_2014 = internet_df[\"Year\"] == 2014\n",
    "internet_df[internet_2014].sort_values([\"Internet_Users_Pct\"], ascending = False)"
   ]
  },
  {
   "cell_type": "markdown",
   "id": "aa0455da",
   "metadata": {},
   "source": [
    "# GDP over time of Iceland, Bermuda, Norway"
   ]
  },
  {
   "cell_type": "code",
   "execution_count": null,
   "id": "c37c4f1e",
   "metadata": {},
   "outputs": [],
   "source": [
    "gdp_top3 = gdp_df[gdp_df[\"Country\"].isin(['Norway','Iceland','Bermuda'])]\n",
    "gdp_top3"
   ]
  },
  {
   "cell_type": "code",
   "execution_count": null,
   "id": "dd334b62",
   "metadata": {},
   "outputs": [],
   "source": [
    "top3_graph = sns.FacetGrid(gdp_top3, col='Country', hue='Country', palette='prism')\n",
    "top3_graph.map_dataframe(sns.lineplot, x=\"Year\",  y=\"GDP_Per_Capita\")\n",
    "top3_graph.set_axis_labels('Year', 'GDP Per Capita')\n",
    "top3_graph.set_titles(col_template='{col_name}')"
   ]
  },
  {
   "cell_type": "markdown",
   "id": "9908aba7",
   "metadata": {},
   "source": [
    "# Created new df for 2014"
   ]
  },
  {
   "cell_type": "code",
   "execution_count": null,
   "id": "6e3f921b",
   "metadata": {},
   "outputs": [],
   "source": [
    "gdp_and_internet_use_2014 = gdp_and_internet_use[gdp_and_internet_use[\"Year\"].isin([2014])]\n",
    "print(gdp_and_internet_use_2014)"
   ]
  },
  {
   "cell_type": "code",
   "execution_count": null,
   "id": "d4eeccf3",
   "metadata": {},
   "outputs": [],
   "source": [
    "sns.set_style('dark')\n",
    "sns.scatterplot(gdp_and_internet_use_2014, x=\"Internet_Users_Pct\", y=\"GDP_Per_Capita\", s=20, alpha=0.7)\n",
    "plt.title(\"Internet Users & GDP Per Capita | A Comparison\")"
   ]
  },
  {
   "cell_type": "markdown",
   "id": "2d00f9ee",
   "metadata": {},
   "source": [
    "# Made new dataframe to only reflect 2014"
   ]
  },
  {
   "cell_type": "code",
   "execution_count": null,
   "id": "f639f5b0",
   "metadata": {},
   "outputs": [],
   "source": [
    "gdp_per_capita_2014 = gdp_df.loc[gdp_df['Year'] == 2014]\n",
    "gdp_per_capita_2014"
   ]
  },
  {
   "cell_type": "markdown",
   "id": "4da8fa83",
   "metadata": {},
   "source": [
    "# used qcut to group GDPs into labeled categories and then added new column showing those groups."
   ]
  },
  {
   "cell_type": "code",
   "execution_count": null,
   "id": "c3b11a70",
   "metadata": {},
   "outputs": [],
   "source": [
    "gdp_and_internet_use_2014['GDP_group'] = pd.qcut(gdp_and_internet_use_2014['GDP_Per_Capita'],3,labels = [\"Low\",\"Medium\",\"High\"])\n",
    "gdp_and_internet_use_2014"
   ]
  },
  {
   "cell_type": "code",
   "execution_count": null,
   "id": "835cf802",
   "metadata": {},
   "outputs": [],
   "source": [
    "gdp_and_internet_use_2014_median = gdp_and_internet_use_2014['Internet_Users_Pct'].median()\n",
    "gdp_and_internet_use_2014_median"
   ]
  },
  {
   "cell_type": "markdown",
   "id": "736acbee",
   "metadata": {},
   "source": [
    "# medians of each group"
   ]
  },
  {
   "cell_type": "code",
   "execution_count": null,
   "id": "f850c1e1",
   "metadata": {},
   "outputs": [],
   "source": [
    "low_group = gdp_and_internet_use_2014.loc[(gdp_and_internet_use_2014['GDP_group'] == 'Low')].Internet_Users_Pct.median()\n",
    "low_group"
   ]
  },
  {
   "cell_type": "code",
   "execution_count": null,
   "id": "c7517855",
   "metadata": {},
   "outputs": [],
   "source": [
    "medium_group = gdp_and_internet_use_2014.loc[(gdp_and_internet_use_2014['GDP_group'] == 'Medium')].Internet_Users_Pct.median()\n",
    "medium_group"
   ]
  },
  {
   "cell_type": "code",
   "execution_count": null,
   "id": "f80a12d0",
   "metadata": {},
   "outputs": [],
   "source": [
    "high_group = gdp_and_internet_use_2014.loc[(gdp_and_internet_use_2014['GDP_group'] == 'High')].Internet_Users_Pct.median()\n",
    "high_group"
   ]
  },
  {
   "cell_type": "code",
   "execution_count": null,
   "id": "38ca02b0",
   "metadata": {},
   "outputs": [],
   "source": []
  }
 ],
 "metadata": {
  "kernelspec": {
   "display_name": "Python 3 (ipykernel)",
   "language": "python",
   "name": "python3"
  },
  "language_info": {
   "codemirror_mode": {
    "name": "ipython",
    "version": 3
   },
   "file_extension": ".py",
   "mimetype": "text/x-python",
   "name": "python",
   "nbconvert_exporter": "python",
   "pygments_lexer": "ipython3",
   "version": "3.10.9"
  }
 },
 "nbformat": 4,
 "nbformat_minor": 5
}
